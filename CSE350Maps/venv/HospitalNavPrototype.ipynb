{
 "nbformat": 4,
 "nbformat_minor": 0,
 "metadata": {
  "colab": {
   "name": "HospitalNavPrototype.ipynb",
   "provenance": [],
   "collapsed_sections": [],
   "authorship_tag": "ABX9TyOUf+xaSIJK+5l+sRqw6/rf",
   "include_colab_link": true
  },
  "kernelspec": {
   "name": "python3",
   "display_name": "Python 3"
  }
 },
 "cells": [
  {
   "cell_type": "markdown",
   "metadata": {
    "id": "view-in-github",
    "colab_type": "text"
   },
   "source": [
    "<a href=\"https://colab.research.google.com/github/Fuenfgeld/HospitalNavigator/blob/main/HospitalNavPrototype.ipynb\" target=\"_parent\"><img src=\"https://colab.research.google.com/assets/colab-badge.svg\" alt=\"Open In Colab\"/></a>"
   ]
  },
  {
   "cell_type": "markdown",
   "metadata": {
    "id": "Cm-5zVsF-M0b"
   },
   "source": [
    "\n",
    "\n",
    "---\n",
    "\n",
    "### To initialize the code click Runtime and then Run all\n",
    "<img src=\"https://github.com/Fuenfgeld/HospitalNavigator/raw/main/img/RunAll.png\" width=\"520\" height=\"132\" alt=\"Run All\"/>\n",
    "\n",
    "\n",
    "---\n",
    "\n",
    "\n",
    "### Every Cell can be run individualy by clicking the Play Button\n",
    "<img src=\"https://github.com/Fuenfgeld/HospitalNavigator/raw/main/img/RunCell.png\" width=\"295\" height=\"88\" />\n",
    "\n",
    "\n",
    "---\n",
    "\n"
   ]
  },
  {
   "cell_type": "code",
   "metadata": {
    "id": "dfKK5g2kUQns"
   },
   "source": [
    "import folium\n",
    "from folium import plugins\n",
    "import pandas as pd\n",
    "\n",
    "import ipywidgets\n",
    "import os\n",
    "import json\n",
    "\n",
    "from IPython.display import YouTubeVideo\n",
    "import datetime"
   ],
   "execution_count": null,
   "outputs": []
  },
  {
   "cell_type": "markdown",
   "metadata": {
    "id": "VZd_uQzf-TJo"
   },
   "source": [
    "## To learn the basics about geo visualisation in Python check out this Video about the cholera outbreak in broad street"
   ]
  },
  {
   "cell_type": "code",
   "metadata": {
    "id": "69BKHi_19OG4"
   },
   "source": [
    "YouTubeVideo('G_5_Cs6i97M',width=700, height=450, )"
   ],
   "execution_count": null,
   "outputs": []
  },
  {
   "cell_type": "code",
   "metadata": {
    "id": "ZbV0lVd_Uxra"
   },
   "source": [
    "!git clone https://github.com/Fuenfgeld/HospitalNavigator.git"
   ],
   "execution_count": null,
   "outputs": []
  },
  {
   "cell_type": "markdown",
   "metadata": {
    "id": "c78wHray6VKo"
   },
   "source": [
    "\n",
    "---\n",
    "## Intitialize Map\n",
    "---"
   ]
  },
  {
   "cell_type": "code",
   "metadata": {
    "id": "GrqeeJe5VBIl"
   },
   "source": [
    "# the latitude and Longitude coordinates\n",
    "UMMlocation = (49.49216583285166, 8.484229445457458)\n",
    "map_UMM = folium.Map(location = UMMlocation, width = \"75%\", zoom_start = 17) # max zoom: 18\n",
    "map_UMM"
   ],
   "execution_count": null,
   "outputs": []
  },
  {
   "cell_type": "markdown",
   "metadata": {
    "id": "K0PSaHRy6Ond"
   },
   "source": [
    "---\n",
    "## Display geojson Outline\n",
    "---\n",
    "geojson drawing tool: http://geojson.io/"
   ]
  },
  {
   "cell_type": "code",
   "metadata": {
    "id": "EBh8uVGd9Fse"
   },
   "source": [
    "startTime=int(datetime.timedelta(minutes=6, seconds=30).total_seconds())\n",
    "YouTubeVideo('I8vSpyIj3Cs',width=700, height=450, start=startTime)"
   ],
   "execution_count": null,
   "outputs": []
  },
  {
   "cell_type": "code",
   "metadata": {
    "id": "fT-J95e4WPWj"
   },
   "source": [
    "hauseOutline = 'HospitalNavigator/GeoResources/Haus22.geojson'\n",
    "display(folium.GeoJson(hauseOutline, name=\"Haus22\").add_to(map_UMM))\n",
    "display(map_UMM)"
   ],
   "execution_count": null,
   "outputs": []
  },
  {
   "cell_type": "markdown",
   "metadata": {
    "id": "aOzBDuxL6I8C"
   },
   "source": [
    "---\n",
    "##Display Ant Path\n",
    "---"
   ]
  },
  {
   "cell_type": "code",
   "metadata": {
    "id": "tcaXDugv_7fH"
   },
   "source": [
    "YouTubeVideo('I8vSpyIj3Cs',width=700, height=450, start=int(datetime.timedelta(minutes=9, seconds=35).total_seconds()))"
   ],
   "execution_count": null,
   "outputs": []
  },
  {
   "cell_type": "code",
   "metadata": {
    "id": "rfrg47U_Qj25"
   },
   "source": [
    "testGeoJson = 'HospitalNavigator/GeoResources/path/w17.geojson'"
   ],
   "execution_count": null,
   "outputs": []
  },
  {
   "cell_type": "code",
   "metadata": {
    "id": "pIQuMaKydxSC"
   },
   "source": [
    "def switchPosition(coordinate):\n",
    "  temp = coordinate[0]\n",
    "  coordinate[0] = coordinate[1]\n",
    "  coordinate[1] = temp\n",
    "  return coordinate"
   ],
   "execution_count": null,
   "outputs": []
  },
  {
   "cell_type": "code",
   "metadata": {
    "id": "nfn2vUH1Sq5z"
   },
   "source": [
    "with open(testGeoJson) as f:\n",
    "  testWay = json.load(f)\n",
    "\n",
    "for feature in testWay['features']:\n",
    "    path = feature['geometry']['coordinates']\n",
    "finalPath = list(map(switchPosition,path))\n",
    "finalPath"
   ],
   "execution_count": null,
   "outputs": []
  },
  {
   "cell_type": "code",
   "metadata": {
    "id": "TtAbktGTZ5bx"
   },
   "source": [
    "path = 'HospitalNavigator/GeoResources/path/w17.geojson'\n",
    "folium.plugins.AntPath([[49.49213534374249, 8.484166413545609],\n",
    " [49.49232786037041, 8.484299182891846],\n",
    " [49.49233047371309, 8.484493643045425],\n",
    " [49.492218099851804, 8.484871834516525],\n",
    " [49.49142363542676, 8.487555384635925],\n",
    " [49.49185222967887, 8.487834334373474],\n",
    " [49.491712849846046, 8.488343954086304],\n",
    " [49.492029938390125, 8.488638997077942],\n",
    " [49.49251776290861, 8.488982319831848],\n",
    " [49.49222506878094, 8.489341735839844],\n",
    " [49.49217977072383, 8.489529490470886],\n",
    " [49.49220764645621, 8.489856719970703]]).add_to(map_UMM)\n",
    "map_UMM"
   ],
   "execution_count": null,
   "outputs": []
  },
  {
   "cell_type": "markdown",
   "metadata": {
    "id": "ifjJu3V16EAs"
   },
   "source": [
    "---\n",
    "## Select Widget\n",
    "---"
   ]
  },
  {
   "cell_type": "code",
   "metadata": {
    "id": "0nxSd4QiAPb5"
   },
   "source": [
    "YouTubeVideo('I8vSpyIj3Cs',width=700, height=450, start=int(datetime.timedelta(minutes=12, seconds=49).total_seconds()))"
   ],
   "execution_count": null,
   "outputs": []
  },
  {
   "cell_type": "code",
   "metadata": {
    "id": "obbYz7AwRL6K"
   },
   "source": [
    "select_widget=ipywidgets.Select(\n",
    "    options=['Option A', 'Option B'],\n",
    "    value='Option A',\n",
    "    description='Select',\n",
    "    disabled=False)\n",
    "\n",
    "def selectOption(opt):\n",
    "    if opt == 'Option A':\n",
    "        print('A')\n",
    "    if opt == 'Option B':\n",
    "        print('B')\n",
    "\n",
    "ipywidgets.interact(selectOption, opt=select_widget)"
   ],
   "execution_count": null,
   "outputs": []
  },
  {
   "cell_type": "markdown",
   "metadata": {
    "id": "0Q-hv_Wj6nB7"
   },
   "source": [
    "\n",
    "\n",
    "---\n",
    "## Build Navigator Prototype\n",
    "---\n",
    "\n",
    "\n"
   ]
  },
  {
   "cell_type": "code",
   "metadata": {
    "id": "1eGj77U7BW3l"
   },
   "source": [
    "YouTubeVideo('I8vSpyIj3Cs',width=700, height=450, start=int(datetime.timedelta(minutes=15, seconds=1).total_seconds()))"
   ],
   "execution_count": null,
   "outputs": []
  },
  {
   "cell_type": "code",
   "metadata": {
    "id": "g_UAR_hEhh5u"
   },
   "source": [
    "class navigator:\n",
    "    def __init__(self):\n",
    "        self.geoResources = {}\n",
    "        self.hospitalLocation =(49.49226339787344, 8.487303256988524)\n",
    "        self.position = 'w'\n",
    "        self.destination = 'Haus17'\n",
    "\n",
    "        for root, dirs, files in os.walk('HospitalNavigator/GeoResources'):  \n",
    "            for file in files:\n",
    "                self.geoResources[file.split('.')[0]] = root+'/'+file\n",
    "\n",
    "    def changeDestination(self,newDestination):\n",
    "        self.destination = newDestination\n",
    "        self.redrawMap()\n",
    "\n",
    "    def changeStartPoint(self, newStartPoint):\n",
    "        \n",
    "        #self.position = newStartPoint #does not work yet\n",
    "        print(f'Selected Start: {newStartPoint}; Selected Target: {self.destination}')\n",
    "        #self.redrawMap()\n",
    "        \n",
    "\n",
    "    def drawPathWay(self,hospitalMap):\n",
    "      \n",
    "      def switchPosition(coordinate):\n",
    "        temp = coordinate[0]\n",
    "        coordinate[0] = coordinate[1]\n",
    "        coordinate[1] = temp\n",
    "        return coordinate\n",
    "\n",
    "      searchString = self.position + self.destination.split('Haus')[1]\n",
    "      with open(self.geoResources[searchString]) as f:\n",
    "           testWay = json.load(f)\n",
    "\n",
    "      for feature in testWay['features']:\n",
    "        path = feature['geometry']['coordinates']\n",
    "\n",
    "      finalPath = list(map(switchPosition,path))\n",
    "      folium.plugins.AntPath(finalPath).add_to(hospitalMap)\n",
    "\n",
    "    def drawBuilding(self,hospitalMap):\n",
    "      hauseOutline = self.geoResources[self.destination]\n",
    "      folium.GeoJson(hauseOutline, name=\"geojson\").add_to(hospitalMap)\n",
    "\n",
    "    def redrawMap(self):\n",
    "        #print(f'position {self.position}, destination {self.destination}')\n",
    "        hospitalMap = folium.Map(location = self.hospitalLocation, width = \"75%\", zoom_start = 17)\n",
    "        self.drawPathWay(hospitalMap)\n",
    "        self.drawBuilding(hospitalMap)\n",
    "        display(hospitalMap)\n",
    "\n",
    "\n"
   ],
   "execution_count": null,
   "outputs": []
  },
  {
   "cell_type": "code",
   "metadata": {
    "id": "NiF2NcmlVioA"
   },
   "source": [
    "myNavigator = navigator()"
   ],
   "execution_count": null,
   "outputs": []
  },
  {
   "cell_type": "code",
   "metadata": {
    "id": "1KVHVrwnjD1H"
   },
   "source": [
    "def displayWay(whereTo):\n",
    "     myNavigator.changeDestination(whereTo)"
   ],
   "execution_count": null,
   "outputs": []
  },
  {
   "cell_type": "code",
   "metadata": {
    "id": "pjRHgbd7jEPb"
   },
   "source": [
    "def changePosition(whereFrom):\n",
    "    myNavigator.changeStartPoint(whereFrom)"
   ],
   "execution_count": null,
   "outputs": []
  },
  {
   "cell_type": "code",
   "metadata": {
    "id": "m1kE2QZlacKq"
   },
   "source": [
    "# Destination Selector\n",
    "selectHouse_widget=ipywidgets.Select(\n",
    "    \n",
    "options=['Haus1',\n",
    "    'Haus10',\n",
    "    'Haus11',\n",
    "    'Haus12',\n",
    "    'Haus13',\n",
    "    'Haus14',\n",
    "    'Haus15',\n",
    "    'Haus16',\n",
    "    'Haus17',\n",
    "    'Haus19',\n",
    "    'Haus2',\n",
    "    'Haus20',\n",
    "    'Haus22',\n",
    "    'Haus24',\n",
    "    'Haus25',\n",
    "    'Haus26',\n",
    "    'Haus27',\n",
    "    'Haus28',\n",
    "    'Haus29',\n",
    "    'Haus3',\n",
    "    'Haus30',\n",
    "    'Haus31',\n",
    "    'Haus32',\n",
    "    'Haus33',\n",
    "    'Haus34',\n",
    "    'Haus35',\n",
    "    'Haus36',\n",
    "    'Haus37',\n",
    "    'Haus39',\n",
    "    'Haus4',\n",
    "    'Haus40',\n",
    "    'Haus41',\n",
    "    'Haus42',\n",
    "    'Haus43',\n",
    "    'Haus5',\n",
    "    'Haus6',\n",
    "    'Haus7',\n",
    "    'Haus8',\n",
    "    'Haus9'],\n",
    "    value='Haus1',\n",
    "    description='Target',\n",
    "    disabled=False)\n",
    "\n",
    "# widget function\n",
    "def selectHouse(way):\n",
    "    if way == 'Haus1' :\n",
    "        displayWay('Haus1' ) \n",
    "    if way == 'Haus10':\n",
    "        displayWay('Haus10')\n",
    "    if way == 'Haus11':\n",
    "        displayWay('Haus11')\n",
    "    if way == 'Haus12':\n",
    "        displayWay('Haus12')\n",
    "    if way == 'Haus13':\n",
    "        displayWay('Haus13')\n",
    "    if way == 'Haus14':\n",
    "        displayWay('Haus14')\n",
    "    if way == 'Haus15':\n",
    "        displayWay('Haus15')\n",
    "    if way == 'Haus16':\n",
    "        displayWay('Haus16')\n",
    "    if way == 'Haus17':\n",
    "       displayWay('Haus17')\n",
    "    if way == 'Haus19':\n",
    "        displayWay('Haus19')\n",
    "    if way == 'Haus2' :\n",
    "        displayWay('Haus2' ) \n",
    "    if way == 'Haus20':\n",
    "        displayWay('Haus20')\n",
    "    if way == 'Haus22':\n",
    "        displayWay('Haus22')\n",
    "    if way == 'Haus24':\n",
    "        displayWay('Haus24')\n",
    "    if way == 'Haus25':\n",
    "        displayWay('Haus25')\n",
    "    if way == 'Haus26':\n",
    "        displayWay('Haus26')\n",
    "    if way == 'Haus27':\n",
    "        displayWay('Haus27')\n",
    "    if way == 'Haus28':\n",
    "        displayWay('Haus28')\n",
    "    if way == 'Haus29':\n",
    "        displayWay('Haus29')\n",
    "    if way == 'Haus3' :\n",
    "        displayWay('Haus3' ) \n",
    "    if way == 'Haus30':\n",
    "        displayWay('Haus30')\n",
    "    if way == 'Haus31':\n",
    "        displayWay('Haus31')\n",
    "    if way == 'Haus32':\n",
    "        displayWay('Haus32')\n",
    "    if way == 'Haus33':\n",
    "        displayWay('Haus33')\n",
    "    if way == 'Haus34':\n",
    "        displayWay('Haus34')\n",
    "    if way == 'Haus35':\n",
    "        displayWay('Haus35')\n",
    "    if way == 'Haus36':\n",
    "        displayWay('Haus36')\n",
    "    if way == 'Haus37':\n",
    "        displayWay('Haus37')\n",
    "    if way == 'Haus39':\n",
    "        displayWay('Haus39')\n",
    "    if way == 'Haus4' :\n",
    "        displayWay('Haus4' ) \n",
    "    if way == 'Haus40':\n",
    "        displayWay('Haus40')\n",
    "    if way == 'Haus41':\n",
    "        displayWay('Haus41')\n",
    "    if way == 'Haus42':\n",
    "        displayWay('Haus42')\n",
    "    if way == 'Haus43':\n",
    "        displayWay('Haus43')\n",
    "    if way == 'Haus5' :\n",
    "        displayWay('Haus5' ) \n",
    "    if way == 'Haus6' :\n",
    "        displayWay('Haus6' ) \n",
    "    if way == 'Haus7' :\n",
    "        displayWay('Haus7' ) \n",
    "    if way == 'Haus8' :\n",
    "        displayWay('Haus8' ) \n",
    "    if way == 'Haus9' :\n",
    "        displayWay('Haus9' ) \n",
    "\n",
    "# Position Selector\n",
    "selectPosition_widget=ipywidgets.Select(\n",
    "    options=['Aufnahme', 'Eingang West', 'Eingang Ost', 'Eingang Fahrzeuge'],\n",
    "    value='Eingang West',\n",
    "    description='Start',\n",
    "    disabled=False)\n",
    "\n",
    "def selectPosition(position):\n",
    "    if position == 'Aufnahme':\n",
    "        changePosition('a')\n",
    "    if position == 'Eingang West':\n",
    "        changePosition('w')\n",
    "    if position == 'Eingang Ost':\n",
    "        changePosition('o')\n",
    "    if position == 'Eingang Fahrzeuge':\n",
    "        changePosition('f')\n",
    "        \n",
    "#Initialization   \n",
    "ipywidgets.interact(selectPosition, position=selectPosition_widget)\n",
    "ipywidgets.interact(selectHouse, way=selectHouse_widget)"
   ],
   "execution_count": null,
   "outputs": []
  },
  {
   "cell_type": "code",
   "metadata": {
    "id": "gu_bjlTMPOnb"
   },
   "source": [],
   "execution_count": null,
   "outputs": []
  }
 ]
}
